{
  "nbformat": 4,
  "nbformat_minor": 0,
  "metadata": {
    "colab": {
      "provenance": []
    },
    "kernelspec": {
      "name": "python3",
      "display_name": "Python 3"
    },
    "language_info": {
      "name": "python"
    }
  },
  "cells": [
    {
      "cell_type": "markdown",
      "source": [
        "#Tensor Operations using Pytorch"
      ],
      "metadata": {
        "id": "6uIlecr5gJq3"
      }
    },
    {
      "cell_type": "code",
      "source": [
        "import torch\n",
        "import numpy as np\n",
        "import matplotlib.pyplot as plt\n",
        "from einops import rearrange, repeat, reduce"
      ],
      "metadata": {
        "id": "vAFwbMgyOVvw"
      },
      "execution_count": null,
      "outputs": []
    },
    {
      "cell_type": "code",
      "source": [
        "# Create various tensors\n",
        "scalar = torch.tensor(5, dtype=torch.int32)\n",
        "vector = torch.tensor([1, 2, 3], dtype=torch.float32)\n",
        "matrix = torch.tensor([[1, 2], [3, 4]], dtype=torch.float64)\n",
        "tensor = torch.tensor(np.random.rand(3, 3, 3), dtype=torch.float32)"
      ],
      "metadata": {
        "id": "TKfAuq-aOXvY"
      },
      "execution_count": null,
      "outputs": []
    },
    {
      "cell_type": "code",
      "source": [
        "# Tensor properties\n",
        "print(\"Shape:\", tensor.shape)\n",
        "print(\"Data Type:\", tensor.dtype)\n",
        "print(\"Number of dimensions:\", tensor.ndimension())"
      ],
      "metadata": {
        "colab": {
          "base_uri": "https://localhost:8080/"
        },
        "id": "561IbllaOdN3",
        "outputId": "dffa1c1f-7c70-421a-bad4-7f0705ba6ff4"
      },
      "execution_count": null,
      "outputs": [
        {
          "output_type": "stream",
          "name": "stdout",
          "text": [
            "Shape: torch.Size([3, 3, 3])\n",
            "Data Type: torch.float32\n",
            "Number of dimensions: 3\n"
          ]
        }
      ]
    },
    {
      "cell_type": "code",
      "source": [
        "# Casting tensor types\n",
        "float_tensor = vector.to(dtype=torch.float64)\n",
        "print(\"Casted Tensor Data Type:\", float_tensor.dtype)"
      ],
      "metadata": {
        "colab": {
          "base_uri": "https://localhost:8080/"
        },
        "id": "DXwOXVSZOfJd",
        "outputId": "14bfdd3b-4f79-4746-d813-be0e50628697"
      },
      "execution_count": null,
      "outputs": [
        {
          "output_type": "stream",
          "name": "stdout",
          "text": [
            "Casted Tensor Data Type: torch.float64\n"
          ]
        }
      ]
    },
    {
      "cell_type": "code",
      "source": [
        "# Visualizing tensors\n",
        "plt.figure(figsize=(4, 4))\n",
        "plt.imshow(tensor.numpy()[0], cmap='viridis')\n",
        "plt.title(\"Random Tensor Visualization\")\n",
        "plt.axis('off')\n",
        "plt.show()"
      ],
      "metadata": {
        "colab": {
          "base_uri": "https://localhost:8080/",
          "height": 367
        },
        "id": "bCIXb4cSOiL9",
        "outputId": "c334006a-68e6-4b42-8777-443377efabce"
      },
      "execution_count": null,
      "outputs": [
        {
          "output_type": "display_data",
          "data": {
            "text/plain": [
              "<Figure size 400x400 with 1 Axes>"
            ],
            "image/png": "[encoded data removed]"
          },
          "metadata": {}
        }
      ]
    },
    {
      "cell_type": "code",
      "source": [
        "# Matrix multiplication visualization\n",
        "A = torch.rand(5, 5)\n",
        "B = torch.rand(5, 5)\n",
        "result = torch.matmul(A, B)\n",
        "plt.figure(figsize=(6, 3))\n",
        "plt.subplot(1, 3, 1)\n",
        "plt.imshow(A.numpy(), cmap='Blues')\n",
        "plt.title(\"Matrix A\")\n",
        "plt.axis('off')\n",
        "plt.subplot(1, 3, 2)\n",
        "plt.imshow(B.numpy(), cmap='Greens')\n",
        "plt.title(\"Matrix B\")\n",
        "plt.axis('off')\n",
        "plt.subplot(1, 3, 3)\n",
        "plt.imshow(result.numpy(), cmap='Purples')\n",
        "plt.title(\"Result (A x B)\")\n",
        "plt.axis('off')\n",
        "plt.show()"
      ],
      "metadata": {
        "colab": {
          "base_uri": "https://localhost:8080/",
          "height": 196
        },
        "id": "KrcZQIvROkzJ",
        "outputId": "79d54b05-c113-4220-faa0-187739b49b8b"
      },
      "execution_count": null,
      "outputs": [
        {
          "output_type": "display_data",
          "data": {
            "text/plain": [
              "<Figure size 600x300 with 3 Axes>"
            ],
            "image/png": "[encoded data removed]"
          },
          "metadata": {}
        }
      ]
    },
    {
      "cell_type": "code",
      "source": [
        "# Basic operations\n",
        "add = vector + 10\n",
        "sub = vector - 2\n",
        "mul = vector * 3\n",
        "div = vector / 2\n",
        "\n",
        "print(\"Addition:\", add.numpy())\n",
        "print(\"Subtraction:\", sub.numpy())\n",
        "print(\"Multiplication:\", mul.numpy())\n",
        "print(\"Division:\", div.numpy())"
      ],
      "metadata": {
        "colab": {
          "base_uri": "https://localhost:8080/"
        },
        "id": "nTb52YViOmBt",
        "outputId": "d0e4cb32-98a6-4ee3-d027-0697cbb7de83"
      },
      "execution_count": null,
      "outputs": [
        {
          "output_type": "stream",
          "name": "stdout",
          "text": [
            "Addition: [11. 12. 13.]\n",
            "Subtraction: [-1.  0.  1.]\n",
            "Multiplication: [3. 6. 9.]\n",
            "Division: [0.5 1.  1.5]\n"
          ]
        }
      ]
    },
    {
      "cell_type": "code",
      "source": [
        "# Einsum operations\n",
        "x = torch.tensor([[1, 2], [3, 4]], dtype=torch.float32)\n",
        "y = torch.tensor([[5, 6], [7, 8]], dtype=torch.float32)\n",
        "einsum_matrix_multiplication = torch.einsum('ij,jk->ik', x, y)\n",
        "plt.figure(figsize=(5, 5))\n",
        "plt.imshow(einsum_matrix_multiplication.numpy(), cmap='magma')\n",
        "plt.title(\"Einsum Matrix Multiplication\")\n",
        "plt.axis('off')\n",
        "plt.show()"
      ],
      "metadata": {
        "colab": {
          "base_uri": "https://localhost:8080/",
          "height": 444
        },
        "id": "yCeeTJz6OniN",
        "outputId": "907478a6-ad17-4f1e-bafa-be82dd540eff"
      },
      "execution_count": null,
      "outputs": [
        {
          "output_type": "display_data",
          "data": {
            "text/plain": [
              "<Figure size 500x500 with 1 Axes>"
            ],
            "image/png": "[encoded data removed]"
          },
          "metadata": {}
        }
      ]
    },
    {
      "cell_type": "code",
      "source": [
        "# Advanced einsum operations\n",
        "einsum_sum = torch.einsum('ij->', x)\n",
        "einsum_elementwise = torch.einsum('ij,ij->ij', x, y)\n",
        "einsum_outer = torch.einsum('i,j->ij', vector, vector)\n",
        "\n",
        "print(\"Einsum Summation:\", einsum_sum.numpy())\n",
        "print(\"Einsum Element-wise Multiplication:\\n\", einsum_elementwise.numpy())\n",
        "print(\"Einsum Outer Product:\\n\", einsum_outer.numpy())"
      ],
      "metadata": {
        "id": "bltn0D3cOpNV"
      },
      "execution_count": null,
      "outputs": []
    },
    {
      "cell_type": "code",
      "source": [
        "# Using einops for tensor manipulations\n",
        "# Rearrange tensor dimensions\n",
        "rearranged_tensor = rearrange(tensor, 'b h w -> h w b')\n",
        "print(\"Rearranged Tensor Shape:\", rearranged_tensor.shape)"
      ],
      "metadata": {
        "id": "XHrNYDlvOqXD"
      },
      "execution_count": null,
      "outputs": []
    },
    {
      "cell_type": "code",
      "source": [
        "# Reduce tensor dimensions\n",
        "reduced_tensor = reduce(tensor, 'b h w -> b h', 'mean')\n",
        "print(\"Reduced Tensor Shape:\", reduced_tensor.shape)"
      ],
      "metadata": {
        "colab": {
          "base_uri": "https://localhost:8080/"
        },
        "id": "WpjKoEykOraR",
        "outputId": "49fb804d-b615-45bf-86b6-ad93e72f87ad"
      },
      "execution_count": null,
      "outputs": [
        {
          "output_type": "stream",
          "name": "stdout",
          "text": [
            "Reduced Tensor Shape: torch.Size([3, 3])\n"
          ]
        }
      ]
    },
    {
      "cell_type": "code",
      "source": [
        "# Repeat tensor along new dimensions\n",
        "repeated_tensor = repeat(vector, 'h -> h w', w=3)\n",
        "print(\"Repeated Tensor Shape:\", repeated_tensor.shape)"
      ],
      "metadata": {
        "colab": {
          "base_uri": "https://localhost:8080/"
        },
        "id": "kfUMrf9OOsYq",
        "outputId": "8380471f-879d-44c6-e1a1-55ffc38984a7"
      },
      "execution_count": null,
      "outputs": [
        {
          "output_type": "stream",
          "name": "stdout",
          "text": [
            "Repeated Tensor Shape: torch.Size([3, 3])\n"
          ]
        }
      ]
    },
    {
      "cell_type": "code",
      "source": [
        "# Advanced operations\n",
        "reshaped_tensor = tensor.view(9, 3)\n",
        "sliced_tensor = tensor[:, :2, :]\n",
        "concatenated_tensor = torch.cat([matrix, matrix], dim=0)\n",
        "stacked_tensor = torch.stack([matrix, matrix], dim=0)\n",
        "\n",
        "eye_matrix = torch.eye(3)\n",
        "diag_matrix = torch.diag(torch.tensor([1, 2, 3], dtype=torch.float64))\n",
        "trace_val = torch.trace(matrix)\n",
        "\n",
        "tensor_norm = torch.norm(matrix)\n",
        "rank_tensor = len(matrix.shape)\n",
        "\n",
        "eigenvalues, eigenvectors = torch.linalg.eig(torch.tensor([[6., 2.], [2., 3.]]))\n",
        "\n",
        "print(\"Reshaped Tensor Shape:\", reshaped_tensor.shape)\n",
        "print(\"Sliced Tensor Shape:\", sliced_tensor.shape)\n",
        "print(\"Concatenated Tensor Shape:\", concatenated_tensor.shape)\n",
        "print(\"Stacked Tensor Shape:\", stacked_tensor.shape)\n",
        "print(\"Identity Matrix:\\n\", eye_matrix.numpy())\n",
        "print(\"Diagonal Matrix:\\n\", diag_matrix.numpy())\n",
        "print(\"Trace of Matrix:\", trace_val.numpy())\n",
        "print(\"Tensor Norm:\", tensor_norm.numpy())\n",
        "print(\"Tensor Rank:\", rank_tensor)\n",
        "print(\"Eigenvalues:\\n\", eigenvalues)\n",
        "print(\"Eigenvectors:\\n\", eigenvectors)"
      ],
      "metadata": {
        "colab": {
          "base_uri": "https://localhost:8080/"
        },
        "id": "-ODjPA-sO12n",
        "outputId": "8a847221-7d8a-48cf-914c-84868fb86f7b"
      },
      "execution_count": null,
      "outputs": [
        {
          "output_type": "stream",
          "name": "stdout",
          "text": [
            "Reshaped Tensor Shape: torch.Size([9, 3])\n",
            "Sliced Tensor Shape: torch.Size([3, 2, 3])\n",
            "Concatenated Tensor Shape: torch.Size([4, 2])\n",
            "Stacked Tensor Shape: torch.Size([2, 2, 2])\n",
            "Identity Matrix:\n",
            " [[1. 0. 0.]\n",
            " [0. 1. 0.]\n",
            " [0. 0. 1.]]\n",
            "Diagonal Matrix:\n",
            " [[1. 0. 0.]\n",
            " [0. 2. 0.]\n",
            " [0. 0. 3.]]\n",
            "Trace of Matrix: 5.0\n",
            "Tensor Norm: 5.477225575051661\n",
            "Tensor Rank: 2\n",
            "Eigenvalues:\n",
            " tensor([7.+0.j, 2.+0.j])\n",
            "Eigenvectors:\n",
            " tensor([[ 0.8944+0.j, -0.4472+0.j],\n",
            "        [ 0.4472+0.j,  0.8944+0.j]])\n"
          ]
        }
      ]
    },
    {
      "cell_type": "code",
      "source": [
        "# Broadcasting example\n",
        "a = torch.tensor([1, 2, 3])\n",
        "b = torch.tensor([[1], [2], [3]])\n",
        "broadcast_result = a + b\n",
        "print(\"Broadcasting Result:\\n\", broadcast_result.numpy())"
      ],
      "metadata": {
        "colab": {
          "base_uri": "https://localhost:8080/"
        },
        "id": "w29nf1k1O4GS",
        "outputId": "12c003fa-8b1a-46a3-db20-dd5be56668e1"
      },
      "execution_count": null,
      "outputs": [
        {
          "output_type": "stream",
          "name": "stdout",
          "text": [
            "Broadcasting Result:\n",
            " [[2 3 4]\n",
            " [3 4 5]\n",
            " [4 5 6]]\n"
          ]
        }
      ]
    },
    {
      "cell_type": "code",
      "source": [
        "plt.figure(figsize=(4, 4))\n",
        "plt.imshow(broadcast_result.numpy(), cmap='coolwarm')\n",
        "plt.title(\"Broadcasting Example\")\n",
        "plt.axis('off')\n",
        "plt.show()"
      ],
      "metadata": {
        "colab": {
          "base_uri": "https://localhost:8080/",
          "height": 367
        },
        "id": "KLy_0Z-KO5_J",
        "outputId": "ee89230b-ab8d-4946-a118-74e79ad25110"
      },
      "execution_count": null,
      "outputs": [
        {
          "output_type": "display_data",
          "data": {
            "text/plain": [
              "<Figure size 400x400 with 1 Axes>"
            ],
            "image/png": "[encoded data removed]"
          },
          "metadata": {}
        }
      ]
    },
    {
      "cell_type": "code",
      "source": [
        "# Gradient computation\n",
        "x = torch.tensor(3.0, requires_grad=True)\n",
        "y = x ** 2 + 3 * x + 5\n",
        "y.backward()\n",
        "gradient = x.grad\n",
        "print(\"Gradient dy/dx:\", gradient.numpy())"
      ],
      "metadata": {
        "colab": {
          "base_uri": "https://localhost:8080/"
        },
        "id": "GuVNaXHbO7rA",
        "outputId": "5f27bcff-65d4-48d9-fdf7-44a3d2560eca"
      },
      "execution_count": null,
      "outputs": [
        {
          "output_type": "stream",
          "name": "stdout",
          "text": [
            "Gradient dy/dx: 9.0\n"
          ]
        }
      ]
    }
  ]
}